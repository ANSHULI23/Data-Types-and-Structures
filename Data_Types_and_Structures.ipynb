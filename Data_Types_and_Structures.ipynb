{
  "nbformat": 4,
  "nbformat_minor": 0,
  "metadata": {
    "colab": {
      "provenance": []
    },
    "kernelspec": {
      "name": "python3",
      "display_name": "Python 3"
    },
    "language_info": {
      "name": "python"
    }
  },
  "cells": [
    {
      "cell_type": "markdown",
      "source": [
        "#**Data Types and Structures Questions**\n",
        "\n",
        "##**Theoretical Questions**\n",
        "----\n",
        "###1. What are data structures, and why are they important?\n",
        "\n",
        " **Data Structures in Python**\n",
        "\n",
        "- Data structures are specialized formats for organizing, storing, and accessing collections of data. They provide efficient ways to manage information based on its characteristics and intended use.\n",
        "- Think of them as containers that hold your data and determine how you can interact with it. Different containers are better suited for different types of items.\n",
        "\n",
        "**Why are they important?**\n",
        "- Choosing the right data structure significantly impacts the efficiency and performance of your program.\n",
        "- Well-chosen data structures can:\n",
        "- Simplify data manipulation (adding, removing, modifying elements)\n",
        "- Optimize searching and sorting\n",
        "- operations\n",
        "- Conserve memory usage\n",
        "\n",
        "\n",
        "###2. Explain the difference between mutable and immutable data types with examples.\n",
        "\n",
        " - In programming, data types can be classified as either mutable or immutable depending on whether their state or value can be changed after they are created.\n",
        "\n",
        "###Mutable Data Types:\n",
        " - Mutable data types allow their values or state to be changed after they are created. This means that the object itself can be modified, and any changes will reflect in the same object.\n",
        "\n",
        "    Examples of mutable data types in Python:\n",
        "\n",
        " - Lists: You can change, add, or remove elements from a list after it is created.\n",
        "\n",
        ">>my_list = [1, 2, 3]\n",
        "my_list[0] = 10 # Modifying an element\n",
        "my_list.append(4) # Adding an element\n",
        "print(my_list)\n",
        "#### Output: [10, 2, 3, 4]\n",
        "\n",
        " - Dictionaries: You can change the key-value pairs after the dictionary is created.\n",
        "\n",
        ">>my_dict = {'a': 1, 'b': 2}\n",
        "my_dict['a'] = 10 # Modifying a value\n",
        "my_dict['c'] = 3 # Adding a new key-value pair\n",
        "print(my_dict)\n",
        "#### Output: {'a': 10, 'b': 2, 'c': 3}\n",
        "\n",
        "###Immutable Data Types:\n",
        " - Immutable data types do not allow their values or state to be changed after they are created. Once an object is assigned an immutable value, it cannot be altered, and any operation that tries to change it will create a new object.\n",
        "\n",
        "    Examples of immutable data types in Python:\n",
        "\n",
        " - Strings: You cannot modify a string after it is created. Any attempt to modify it will result in a new string.\n",
        "\n",
        ">>my_string = \"Hello\"\n",
        "my_string[0] = 'h' # This will raise an error\n",
        "new_string = my_string.replace(\"H\", \"h\") # Creating a new string\n",
        "print(new_string)\n",
        "#### Output: \"hello\"\n",
        "\n",
        " - Tuples: You cannot change, add, or remove elements in a tuple once it is created.\n",
        "\n",
        ">>my_tuple = (1, 2, 3)\n",
        "my_tuple[0] = 10 # This will raise an error\n",
        "Numbers (int, float): You cannot change the value of an integer or float directly. Operations on them\n",
        "create new values.\n",
        "num = 10\n",
        "num += 5 # This creates a new integer 15, the original 10 is unchanged\n",
        "print(num)\n",
        "#### Output: 15\n",
        "\n",
        "**Key Differences:**\n",
        "Mutable types can be modified after creation, while immutable types cannot.\n",
        " - Mutable types are generally faster when you need to modify or update data, but they can also lead to unintended side effects if you pass them around in your program (due to shared references).\n",
        "\n",
        " - Immutable types are generally safer in terms of preventing accidental changes, as any modification creates a new object.\n",
        "\n",
        "----\n",
        "\n",
        "###3. What are the main differences between lists and tuples in Python?\n",
        "\n",
        "##**Lists**\n",
        "- Description: Ordered, mutable collections of elements. Think of shopping lists or task lists. Lists can hold items of various data types (numbers, strings, even other lists!).\n",
        "- Operations: You can add, remove, or modify elements within a list using indexing and slicing. Lists are versatile for storing and managing collections that might change.\n",
        "\n",
        ">>Example: `python shopping_list = [\"apples\", 2, \"milk\", True] # Mixed data types\n",
        "shopping_list.append(\"bread\") # Adding an item del shopping_list[1] # Removing the second item\n",
        "\n",
        ">>Example:\n",
        "####Create a tuple\n",
        "shopping_list = [\"apples\", 2, \"milk\", True] #Mixed data types\n",
        "shopping_list.appened(\"bread\") #Adding an item\n",
        "del shopping_list[1] #Removing the second item\n",
        "[shopping_list]\n",
        "['apples', 'milk', 'True', 'bread']\n",
        "\n",
        " - Analogy: Imagine a shopping cart where you can add new items, remove unwanted ones, or change quantities. Lists offer this flexibility in data storage.\n",
        "\n",
        "##**Tuples:**\n",
        " - Description: Ordered, immutable collections of elements, similar to lists. However, once created, the items in a tuple cannot be changed. They provide a secure way to store data that shouldn't be modified.\n",
        " - Operations: You can access elements using indexing and slicing, but you cannot modify the content.\n",
        " - Tuples are useful for representing fixed datasets or configurations.\n",
        "\n",
        ">>Example:\n",
        "####Create a tuple\n",
        "my_tuple = (10, \"apple\", True)\n",
        "#####Attempt to modify an element (will cause an error)\n",
        "my_tuple[0] = 20 #This line will cause an error\n",
        "------------\n",
        "TypeError Traceback(most recent call last)\n",
        "~\\AppData\\Local\\Temp\\ipykernel_12860\\4211080971.py in <module>\n",
        "3\n",
        "4 #Attempt to modify an element (will cause an error)\n",
        "---> 5 my_tuple[0] = 20 #This line will cause an error\n",
        "TypeError: 'tuple' object does not support item assignment\n",
        "\n",
        " - Analogy: Imagine a museum exhibit with artifacts in a fixed display case. These artifacts (data) are fixed in their place (immutable) and cannot be rearranged or removed ensuring their preservation.\n",
        "\n",
        "-----\n",
        "\n",
        "###4. Describe how dictionaries store data.\n",
        "\n",
        "##**Dictionary**\n",
        "\n",
        "- Unordered collections: Elements are not stored in a specific order.\n",
        "- Unique key-value pairs: Each key acts as a unique identifier for retrieving an associated value.\n",
        "- Flexible data: Keys and values can be of various data types (strings, numbers, lists, and even other dictionaries).\n",
        "####Operations (Basic):\n",
        "- Add: Use direct assignment (dictionary_name[key] = value) or .update() method.\n",
        "- Access: Retrieve values using their keys (value = dictionary_name[key]).\n",
        "- Remove: Use del dictionary_name[key], .pop(key), or .popitem().\n",
        "- Check membership: Use the in operator (key in dictionary_name).\n",
        "\n",
        ">>Example:\n",
        "#### student information\n",
        "student = {\n",
        "\"name\": \"Anshuli\",\n",
        "\"age\": 25,\n",
        "\"courses\": [\"Math\", \"Political Science\"]\n",
        "}\n",
        "#### Accessing student's age\n",
        "age = student[\"age\"]\n",
        "print(f\"Anshuli's age: {age}\")\n",
        "Anshuli's age: 25\n",
        "\n",
        "Analogy:\n",
        " - Imagine a fancy key organizer with compartments and labels. Each compartment holds a unique key (like a student ID) and a tag representing the value (like name or class). You can quickly find information (value) by looking up the corresponding key (ID) in the organizer.\n",
        "\n",
        "----\n",
        "\n",
        "###5. Why might you use a set instead of a list in Python?\n",
        "\n",
        "###1. To Avoid Duplicate Elements\n",
        "\n",
        " - A set automatically removes duplicate elements, whereas a list allows duplicates.\n",
        "\n",
        ">>Example:\n",
        "numbers = [1, 2, 2, 3, 4, 4, 5]\n",
        "unique_numbers = set(numbers) # Removes duplicates\n",
        "print(unique_numbers) # Output: {1, 2, 3, 4, 5}\n",
        "\n",
        "\n",
        "###2. Faster Membership Testing\n",
        "Checking if an element exists in a set is faster (O(1)complexity) compared to a list (O(n) complexity).\n",
        "\n",
        ">> Example:\n",
        "names_list = ['Akshay', 'Ankita', 'Anshuli']\n",
        "names_set = {'Akshay', 'Ankita', 'Anshuli'}\n",
        "#### Membership testing\n",
        "print('Akshay' in names_list) # Slower for large lists\n",
        "print('Akshay' in names_set) # Faster for large sets\n",
        "\n",
        "\n",
        "###3. To Perform Set Operations\n",
        " - Sets support operations like union, intersection, and difference, which are not directly available with lists.\n",
        "\n",
        ">> Example:\n",
        "set1 = {1, 2, 3, 4}\n",
        "set2 = {3, 4, 5, 6}\n",
        "print(set1.union(set2)) # Union: {1, 2, 3, 4, 5, 6}\n",
        "print(set1.intersection(set2)) # Intersection: {3, 4}\n",
        "print(set1.difference(set2)) # Difference: {1, 2}\n",
        "\n",
        "\n",
        "###4. To Ensure Unordered Collections\n",
        " - Sets are unordered, which can be useful when order does not matter.\n",
        "\n",
        ">> Example:\n",
        "names = {'Anjali', 'Akshay', 'Ankita'}\n",
        "print(names) # Order may vary: {'Akshay', 'Anjali', 'Ankita'}\n",
        "\n",
        "\n",
        "**When to Use a List Instead:**\n",
        " - If you need ordered data or want to allow duplicate elements lists are more appropriate.\n",
        "\n",
        "----\n",
        "\n",
        "###6. What is a string in Python, and how is it different from a list?\n",
        "\n",
        "##Strings\n",
        "- Description:Characters arranged in an unchangeable order. Consider writing a sentence, a paragraph, or a piece of material.\n",
        "- Operations: Each character in the string can be accessed by its index, or position. Substrings can be extracted using slicing. Strings can be joined together and altered using a variety of techniques (find, replace, etc.).\n",
        "\n",
        ">>Example: `python name = \"Aryabhatta\" first_letter = name[0] # Accessing initials = name[:4] for the first\n",
        "character (A). #Chopping to obtain initials (Albe)\n",
        "name = \"Aryabhatta\"\n",
        "first_letter = name[0]\n",
        "initials = name[:4]\n",
        "initials\n",
        "'Albe'\n",
        "\n",
        "- Analogy: Picture a bookshelf with strings instead of books. The data is represented by the title on the cover like the spine (characters), and you can access individual words (characters) based on where they are located on the shelf (index).\n",
        "\n",
        " - In Python, a string is a sequence of characters enclosed within single quotes (') or double quotes (\").\n",
        " - Strings are immutable, meaning their contents cannot be changed once created.\n",
        " - A list, on the other hand, is a collection of items (elements)that can include different data types. Lists are mutable, meaning their contents can be modified.\n",
        "\n",
        "##Key Differences:\n",
        "\n",
        "**1. Mutability:**\n",
        " - Strings are immutable.\n",
        " - Lists are mutable.\n",
        "\n",
        "**2. Data Type:**\n",
        " - Strings can only store characters.\n",
        " - Lists can store elements of any data type (e.g., integers, floats, strings, or even other lists).\n",
        "\n",
        "**3. Representation:**\n",
        " - Lists are enclosed in square brackets ([]).\n",
        "\n",
        "**4. Modification:**\n",
        " - Strings cannot be modified directly (new strings need to be created for changes).\n",
        " - Lists allow direct modification of their elements.\n",
        "\n",
        ">>Examples:\n",
        "\n",
        "1. String:\n",
        "\n",
        "#### Define a string\n",
        "my_string = \"Hello, Python!\"\n",
        "#### Accessing elements\n",
        "print(my_string[0])\n",
        "#### Output: H\n",
        "#### Attempt to modify (will cause an error)\n",
        "#### my_string[0] = 'h' # TypeError: 'str' object does not support item assignment\n",
        "#### Slicing\n",
        "print(my_string[0:5])\n",
        "#### Output: Hello\n",
        "####2. List:\n",
        "#### Define a list\n",
        "\n",
        "my_list = [1, 2, 3, \"Python\", True]\n",
        "#### Accessing elements\n",
        "print(my_list[0])\n",
        "#### Output: 1\n",
        "#### Modifying an element\n",
        "my_list[0] = 99\n",
        "print(my_list)\n",
        "#### Output: [99, 2, 3, 'Python', True]\n",
        "#### Adding an element\n",
        "my_list.append(\"New Item\")\n",
        "print(my_list)\n",
        "#### Output: [99, 2, 3, 'Python', True, 'New Item']\n",
        "\n",
        "\n",
        "Summary of Behavior:\n",
        "- Strings are used for text, while lists are used for collections of items.\n",
        "- Strings are fixed after creation, but lists can be modified dynamically.\n",
        "\n",
        "----\n",
        "\n",
        "###7. How do tuples ensure data integrity in Python?\n",
        "\n",
        " - In Python, tuples ensure data integrity by being immutable, meaning their elements cannot be changed, added, or removed after the tuple is created. This immutability ensures that data stored in tuples remains consistent and secure from accidental modifications.\n",
        "\n",
        ">>Example of Tuple Immutability\n",
        "#### Creating a tuple\n",
        "user_details = (\"Akshay\", 28, \"Software Engineer\")\n",
        "#### Accessing elements\n",
        "print(user_details[0])\n",
        "#### Output: Akshay\n",
        "\n",
        "#### Trying to modify an element (this will raise an error)\n",
        "try:\n",
        "user_details[1] = 29\n",
        "\n",
        "except TypeError as e:\n",
        "print(e)\n",
        "#### Output: 'tuple' object does not support item assignment\n",
        "\n",
        "#### Immutability ensures data integrity\n",
        "print(user_details) # Still: (\"John\", 28, \"Software Engineer\")\n",
        "Use Case for Ensuring Data Integrity\n",
        "Imagine a situation where sensitive configuration data is stored in a tuple:\n",
        "#### Configuration settings\n",
        "config = (\"localhost\", 5432, \"admin\", \"password123\")\n",
        "#### Prevent modification\n",
        "try:\n",
        "config[2] = \"guest\"\n",
        "except TypeError as e:\n",
        "print(e)\n",
        "#### Output: 'tuple' object does not support item assignment\n",
        "\n",
        " - 1. Immutable Data: Once created, the data in a tuple cannot be altered, providing a reliable and secure way to store fixed information.\n",
        " - 2. Hashability: Tuples can be used as keys in dictionaries because they are hashable, unlike mutable types like lists.\n",
        " - 3. Read-Only Nature: Ensures the original data remains intact, reducing bugs in applications that rely on the consistency of shared data.\n",
        "\n",
        "----\n",
        "\n",
        "###8. What is a hash table, and how does it relate to dictionaries in Python?\n",
        "\n",
        "**What is a Hash Table?**\n",
        "\n",
        " - A hash table is a data structure that stores key-value pairs and uses a hash function to map keys to indices in an array. This enables fast data retrieval, insertion, and deletion, typically in O(1) time for average cases. The hash function generates an index based on the key, and the value is stored at that index.\n",
        "\n",
        "**Hash Tables and Python Dictionaries**\n",
        "\n",
        "   - In Python, dictionaries (dict) are implemented using hash tables. Keys in a dictionary are hashed to determine where to store the corresponding value. This allows dictionaries to provide fast lookups, insertions, and deletions.\n",
        "\n",
        "  - 1. Keys are unique: Each key maps to a single value.\n",
        "  - 2. Hashable keys: Keys must be immutable types like strings, numbers, or tuples.\n",
        "  - 3. Unordered: Python dictionaries (before Python 3.7) were unordered. From Python 3.7+, they maintain insertion order.\n",
        "\n",
        ">>Example:\n",
        "#### Creating a dictionary\n",
        "student_grades = {\n",
        "\"Anshuli\": 85,\n",
        "\"Ankita\": 92,\n",
        "\"Akshay\": 78\n",
        "}\n",
        "#### Accessing a value (fast lookup due to hash table)\n",
        "print(student_grades[\"Anshuli\"])\n",
        "#### Output: 85\n",
        "\n",
        "#### Adding a new key-value pair\n",
        "student_grades[\"Anjali\"] = 90\n",
        "#### Updating an existing key\n",
        "student_grades[\"Ankita\"] = 95\n",
        "#### Deleting a key-value pair\n",
        "del student_grades[\"Akshay\"]\n",
        "#### Final dictionary\n",
        "print(student_grades)\n",
        "\n",
        "#### Output: {'Anshuli': 85, 'Ankita': 95, 'Anjali': 90}\n",
        "\n",
        "\n",
        "How Hash Tables Work in this Example:\n",
        "\n",
        "  - 1. Each key (e.g., \"Anshuli\") is passed through a hash function.\n",
        "  - 2. The hash function computes an index where the value (85) is stored in an internal array.\n",
        "  - 3. When you query student_grades[\"Anshuli\"], Python hashes \"Anshuli\" again to find the index and retrieves the value.\n",
        "\n",
        "----\n",
        "\n",
        "###9. Can lists contain different data types in Python?\n",
        "\n",
        "Yes, lists in Python can contain different data types. A single list can hold integers, strings, floats, and even other lists or objects.\n",
        "\n",
        ">>Example:\n",
        "# A list with different data types\n",
        "my_list = [25, \"Hello\", 3.14, True, [1, 2, 3]\n",
        "print(my_list)\n",
        "\n",
        "####Output:\n",
        "[25, 'Hello', 3.14, True, [1, 2, 3]\n",
        "\n",
        ">>Explanation:\n",
        "25 is an integer.\n",
        "\"Hello\" is a string.\n",
        "3.14 is a float.\n",
        "True is a boolean.\n",
        "[1, 2, 3] is a nested list.\n",
        "\n",
        "----\n",
        "\n",
        "###10. Explain why strings are immutable in Python.\n",
        "\n",
        " - In Python, strings are immutable, which means once a string is created, it cannot be changed. This design choice ensures that strings are reliable and safe to use, especially in multi-threaded programs, and makes them memory efficient.\n",
        "\n",
        "##**Why Strings are Immutable?**\n",
        "\n",
        "#####1. Efficiency: Python reuses string objects to save memory. For example, if two variables have the same string, they can point to the same object in memory. If strings were mutable, modifying one variable could unintentionally change another.\n",
        "\n",
        "#####2. Hashing: Strings are used as keys in dictionaries because they are immutable and hashable. If strings could change, their hash value would also change, breaking the dictionary functionality.\n",
        "\n",
        "#####3. Thread Safety: Immutability ensures that strings are safe to use across different parts of a program without risk of unexpected changes.\n",
        "\n",
        ">>Example to Understand\n",
        "# Original string\n",
        "string1 = \"Hello\"\n",
        "print(id(string1)) # Memory location of string1\n",
        "# Trying to change the string\n",
        "\n",
        "string2 = string1 + \" World\"\n",
        "print(string2) # New string created\n",
        "print(id(string2)) # New memory location\n",
        "\n",
        "Explanation:\n",
        " - When string1 is created, it is stored in memory at a specific location.\n",
        " - When you concatenate \" World\" to string1, a new string is created (string2), and it has a different memory location. The original string remains unchanged.\n",
        "\n",
        "----\n",
        "\n",
        "###11. What advantages do dictionaries offer over lists for certain tasks?\n",
        "\n",
        " - Dictionaries offer several advantages over lists for specific tasks because they store data in key-value\n",
        "pairs. Here are some key advantages with examples:\n",
        "\n",
        "**1. Faster Lookups:**\n",
        " - Dictionaries allow quick access to data using keys, whereas lists require searching through all elements.\n",
        "\n",
        ">>Example:\n",
        "# Using a list\n",
        "items = [\"apple\", \"banana\", \"cherry\"]\n",
        "print(\"banana\" in items) # Searches through the entire list\n",
        "# Using a dictionary\n",
        "items_dict = {\"apple\": 1, \"banana\": 2, \"cherry\": 3}\n",
        "print(\"banana\" in items_dict) # Directly checks the key, faster\n",
        "\n",
        "**2. Descriptive Keys:**\n",
        " - Dictionaries let you use meaningful keys to organize data, making the code easier to understand.\n",
        "\n",
        ">>Example:\n",
        "# Using a list (hard to understand what each index means)\n",
        "person = [\"John\", 25, \"Engineer\"]\n",
        "# Using a dictionary\n",
        "person = {\"name\": \"John\", \"age\": 25, \"profession\": \"Engineer\"}\n",
        "print(person[\"age\"]) # Easier to understand\n",
        "\n",
        "**3. No Duplicate Keys:**\n",
        "  - Dictionaries automatically prevent duplicate keys, ensuring unique identifiers for each value.\n",
        "\n",
        ">>Example:\n",
        "# List can have duplicates\n",
        "\n",
        "items = [\"apple\", \"apple\", \"banana\"]\n",
        "# Dictionary prevents duplicate keys\n",
        "items_dict = {\"apple\": 2, \"banana\": 1} # \"apple\" key occurs only once\n",
        "\n",
        "**4. Data Relationships:**\n",
        " - Dictionaries are better for representing relationships between data.\n",
        "\n",
        ">>Example:\n",
        "# Representing a phonebook\n",
        "phonebook = {\"Alice\": \"12345\", \"Bob\": \"67890\"}\n",
        "print(phonebook[\"Alice\"])\n",
        "# Output: 12345\n",
        "\n",
        "Dictionaries are ideal when you need fast access to data using keys or want to organize data with meaningful labels.\n",
        "\n",
        "----\n",
        "\n",
        "###12. Describe a scenario where using a tuple would be preferable over a list.\n",
        "\n",
        " - A tuple is preferable over a list when you want to create a collection of items that should not change (immutable). Tuples are often used for data that is fixed or constant, such as coordinates, configurations, or function return values with multiple elements.\n",
        "\n",
        ">>Example:\n",
        "Scenario: Storing coordinates of a point in 2D space.\n",
        "\n",
        "Why tuple?\n",
        " -  The coordinates (x, y) of a point are not supposed to change. Using a tuple ensures that the data remains unchangeable.\n",
        "\n",
        "# Using a tuple for fixed coordinates\n",
        "point = (4, 5) # x = 4, y = 5\n",
        "# Accessing the coordinates\n",
        "x, y = point\n",
        "print(f\"X-coordinate: {x}, Y-coordinate: {y}\")\n",
        "# Trying to modify the tuple will cause an error\n",
        "# point[0] = 10 # This will raise a TypeError\n",
        "\n",
        "Why not use a list?\n",
        " - If you used a list, you could accidentally change the coordinates:\n",
        "# Using a list\n",
        "\n",
        ">>point = [4, 5]\n",
        "point[0] = 10 # Now x is 10 instead of 4\n",
        "\n",
        " - In summary, use a tuple when the data should remain constant to ensure its integrity.\n",
        "\n",
        "----\n",
        "\n",
        "###13. How do sets handle duplicate values in Python?\n",
        "\n",
        " - In Python, sets automatically remove duplicate values. A set is a collection of unique elements, so if you try to add duplicates, only one instance of each value will be kept.\n",
        "\n",
        ">>Example:\n",
        "# Creating a set with duplicate values\n",
        "my_set = {1, 2, 2, 3, 4, 4, 5}\n",
        "# Print the set\n",
        "print(my_set)\n",
        "# Output: {1, 2, 3, 4, 5}\n",
        "\n",
        "Explanation:\n",
        "When the set is created, it automatically removes the duplicates (2 and 4 appear only once in the output). Sets ensure that all elements are unique.\n",
        "\n",
        " - This is why sets are often used to filter out duplicates from a list or collection.\n",
        "\n",
        ">>Example of removing duplicates from a list:\n",
        "# Removing duplicates from a list using a set\n",
        "my_list = [1, 2, 2, 3, 4, 4, 5]\n",
        "unique_set = set(my_list)\n",
        "print(unique_set)\n",
        "# Output: {1, 2, 3, 4, 5}\n",
        "\n",
        "----\n",
        "\n",
        "###14. How does the \"in\" keyword work differently for lists and dictionaries?\n",
        "\n",
        " - The in keyword works differently for lists and dictionaries in Python:\n",
        "\n",
        "#For Lists\n",
        "The in keyword checks if an element is present in the list.It searches through all items in the list.\n",
        "\n",
        ">>Example:\n",
        "my_list = [1, 2, 3, 4, 5]\n",
        "print(3 in my_list)\n",
        "# Output: True (3 is in the list)\n",
        "print(6 in my_list)\n",
        "# Output: False (6 is not in the list)\n",
        "\n",
        "\n",
        "##For Dictionaries\n",
        "The in keyword checks if a key is present in the dictionary (not values).It does not check the dictionary’s values unless specified.\n",
        "\n",
        ">>Example:\n",
        "my_dict = {\"a\": 1, \"b\": 2, \"c\": 3}\n",
        "print(\"a\" in my_dict)\n",
        "# Output: True ('a' is a key)\n",
        "print(1 in my_dict)\n",
        "# Output: False (1 is not a key, it's a value)\n",
        "\n",
        "Summary:\n",
        "- In Lists: Checks for elements.\n",
        "- In Dictionaries: Checks for keys.\n",
        "\n",
        "----\n",
        "\n",
        "###15. Can you modify the elements of a tuple? Explain why or why not.\n",
        " - No, the elements of a tuple cannot be modified because tuples are immutable in Python. This means that once a tuple is created, its elements cannot be changed, added, or removed.\n",
        "\n",
        "Here’s a simple example:\n",
        "# Creating a tuple\n",
        "my_tuple = (1, 2, 3)\n",
        "# Trying to modify an element\n",
        "my_tuple[0] = 10 # This will raise an error\n",
        "Output:\n",
        "TypeError: 'tuple' object does not support item assignment However, if a tuple contains a mutable object like a list, the contents of that mutable object can be changed.\n",
        "\n",
        ">>For example:\n",
        "# A tuple with a list as an element\n",
        "my_tuple = (1, 2, [3, 4])\n",
        "# Modifying the list inside the tuple\n",
        "my_tuple[2][0] = 10 # This works because the list is mutable\n",
        "print(my_tuple)\n",
        "####Output:\n",
        "(1, 2, [10, 4])\n",
        "\n",
        "So, while the tuple itself is immutable, the mutable objects inside it can still be changed.\n",
        "\n",
        "----\n",
        "\n",
        "###16. What is a nested dictionary, and give an example of its use case?\n",
        "\n",
        " - A nested dictionary is a dictionary inside another dictionary. This means you can have a dictionary as a value for a key in another dictionary. It allows you to store more complex data structures.\n",
        "\n",
        ">>Example of a Nested Dictionary:\n",
        "Let's say we have information about students and their grades in different subjects.\n",
        "students = {\n",
        "\"Juli\": {\"Math\": 85, \"English\": 90, \"Science\": 78},\n",
        "\"Anshuli\": {\"Math\": 92, \"English\": 88, \"Science\": 94},\n",
        "\"Anshi\": {\"Math\": 76, \"English\": 80, \"Science\": 82}\n",
        "}\n",
        "In this example:\n",
        "\"Juli\", \"Anshuli\", and \"Anshi\" are keys in the outer dictionary.\n",
        "The values associated with each key are inner dictionaries (nested dictionaries), which store the subjects\n",
        "and their corresponding grades.\n",
        "\n",
        "Use Case:\n",
        "If we wanted to access Emily's grade in Science, we could do:\n",
        "print(students[\"Anshuli\"][\"Science\"])\n",
        "#### Output: 94\n",
        "\n",
        " - In this case, the outer dictionary stores student names, and the inner dictionaries store subject grades, making it easy to organize and retrieve information.\n",
        "\n",
        "----\n",
        "\n",
        "###17. Describe the time complexity of accessing elements in a dictionary.\n",
        "\n",
        " - In Python, the time complexity of accessing elements in a dictionary is O(1), also called constant time complexity. This means that no matter how large the dictionary is, accessing an element by its key takes the same amount of time.\n",
        "\n",
        ">>Example:\n",
        "my_dict = {'apple': 1, 'banana': 2, 'cherry': 3}\n",
        "# Accessing the value for the key 'banana'\n",
        "print(my_dict['banana'])\n",
        "\n",
        " - Here, accessing my_dict['banana'] takes constant time, O(1), because Python uses a hash table internally to quickly locate the value associated with the key 'banana'.\n",
        " - Even if the dictionary contains 1,000,000 elements, the time to access an element by key remains the same, O(1).\n",
        "\n",
        "----\n",
        "###18. In what situations are lists preferred over dictionaries?\n",
        "\n",
        " - Lists are preferred over dictionaries in situations where you need to store an ordered collection of items without needing to associate each item with a key. Lists are best when the order of the elements matters, or when you're only interested in storing a simple collection of data.\n",
        "\n",
        "#Example 1: Shopping list\n",
        " - If you are creating a shopping list and don’t need to store additional information for each item, a list is a good choice.\n",
        "shopping_list = [\"apples\", \"bananas\", \"bread\", \"milk\"]\n",
        "\n",
        " - Here, the order of items matters, and each item is just a value, so a list works perfectly.\n",
        "\n",
        "#Example 2: Storing numbers\n",
        " - If you're storing numbers for a sequence or series, and the order is important, a list is ideal.\n",
        "\n",
        "numbers = [1, 2, 3, 4, 5]\n",
        "\n",
        " - The numbers are stored in order, and there’s no need for key-value pairs, so a list suffices.\n",
        " - In contrast, dictionaries are used when you need to store key-value pairs, where each key is unique and associated with a specific value. For example, if you were to store the prices of items, a dictionary would be preferred:\n",
        " - item_prices = {\"apple\": 1.5, \"banana\": 0.8, \"bread\": 2.0}\n",
        "\n",
        "\n",
        "----\n",
        "\n",
        "###19. Why are dictionaries considered unordered, and how does that affect data retrieval?\n",
        "\n",
        "   - Dictionaries in Python (or similar data structures in other programming languages) are unordered because they do not maintain any specific order of the keys. The reason for this is that dictionaries are implemented using hash tables, which store key-value pairs based on the hash value of the keys. The hash value determines where the key-value pair is stored in memory, and this location is not related to the order in which they are added to the dictionary.\n",
        "\n",
        ">>Example:\n",
        "my_dict = {\"apple\": 1, \"banana\": 2, \"cherry\": 3}\n",
        "\n",
        "When you print my_dict, the order of the keys might not be the same as the order in which they were inserted.\n",
        "\n",
        "print(my_dict)\n",
        "#### Output: {'banana': 2, 'apple': 1, 'cherry': 3}\n",
        "\n",
        "In this case, the keys appear in a different order even though they were inserted in the order: \"apple\",\n",
        "\"banana\", and \"cherry\".\n",
        "\n",
        "How does this affect data retrieval?\n",
        "\n",
        " - Since dictionaries do not maintain order, accessing values using keys (e.g., my_dict[\"apple\"]) is fast and efficient, with an average time complexity of O(1). However, if you care about the order of items (like processing them in the exact order they were added), you will need to use a different data structure, such as OrderedDict in Python, which keeps the order intact.\n",
        "\n",
        " - In short, the unordered nature of dictionaries means you can retrieve values very quickly using keys, but the order of keys is not guaranteed.\n",
        "\n",
        " -----\n",
        "\n",
        " ### 20. Explain the difference between a list and a dictionary in terms of data retrieval.\n",
        "\n",
        "   - A list and a dictionary are both data structures used to store collections of items, but they work in different ways for data retrieval:\n",
        "\n",
        "##1. List:\n",
        " - A list stores items in a specific order, and you retrieve an item using its index (position).\n",
        "\n",
        ">>Example:\n",
        "my_list = ['apple', 'banana', 'cherry']\n",
        "print(my_list[1])  # Output: 'banana'\n",
        "\n",
        "In this example, you retrieve 'banana' because it is at index 1 in the list.\n",
        "\n",
        "\n",
        "\n",
        "##2. Dictionary:\n",
        " - A dictionary stores items as key-value pairs, and you retrieve an item using the key.\n",
        "\n",
        ">>Example:\n",
        "\n",
        "my_dict = {'name': 'Anshuli', 'age': 25, 'city': 'New Delhi'}\n",
        "print(my_dict['age'])  # Output: 25\n",
        "\n",
        "In this example, you retrieve the value 25 by using the key 'age'.\n",
        "\n",
        "\n",
        "##Differences:\n",
        "\n",
        " - List: Items are accessed using an index (integer position).\n",
        " - Dictionary: Items are accessed using a key (which can be any data type)."
      ],
      "metadata": {
        "id": "UIisH4Ctk-FN"
      }
    },
    {
      "cell_type": "markdown",
      "source": [
        "#**Practical Questions**"
      ],
      "metadata": {
        "id": "dLaqWhYF6lqR"
      }
    },
    {
      "cell_type": "code",
      "source": [
        "#1. Write a code to create a string with your name and print it.\n",
        "name = \"Anshuli\"\n",
        "print(name)"
      ],
      "metadata": {
        "colab": {
          "base_uri": "https://localhost:8080/"
        },
        "id": "h9PqCZXg66Sl",
        "outputId": "fccb1f4d-50c9-4cb9-9fc2-2478b21674f4"
      },
      "execution_count": 1,
      "outputs": [
        {
          "output_type": "stream",
          "name": "stdout",
          "text": [
            "Anshuli\n"
          ]
        }
      ]
    },
    {
      "cell_type": "code",
      "source": [
        "#2. Write a code to find the length of the string \"Hello World\".\n",
        "# Code to find the length of the string \"Hello World\"\n",
        "string = \"Hello World\"\n",
        "length_of_string = len(string)\n",
        "print(length_of_string)"
      ],
      "metadata": {
        "colab": {
          "base_uri": "https://localhost:8080/"
        },
        "id": "27vUKaSJ7Vqd",
        "outputId": "809c4d49-4bf7-44e5-b726-aa41ffc946b7"
      },
      "execution_count": 2,
      "outputs": [
        {
          "output_type": "stream",
          "name": "stdout",
          "text": [
            "11\n"
          ]
        }
      ]
    },
    {
      "cell_type": "code",
      "source": [
        "#3. Write a code to slice the first 3 characters from the string 'Python Programming\".\n",
        "# Define the string\n",
        "text = \"Python Programming\"\n",
        "# Slice the first 3 characters\n",
        "result = text[:3]\n",
        "# Print the result\n",
        "print(result)"
      ],
      "metadata": {
        "colab": {
          "base_uri": "https://localhost:8080/"
        },
        "id": "oNVwnGC37gMp",
        "outputId": "8c5c0368-107c-4962-838f-62aafd36642a"
      },
      "execution_count": 3,
      "outputs": [
        {
          "output_type": "stream",
          "name": "stdout",
          "text": [
            "Pyt\n"
          ]
        }
      ]
    },
    {
      "cell_type": "code",
      "source": [
        "#4. Write a code to convert the string 'hello' to uppercase.\n",
        "# Given string\n",
        "text = 'hello'\n",
        "# Convert to uppercase\n",
        "uppercase_text = text.upper()\n",
        "# Print the result\n",
        "print(uppercase_text)"
      ],
      "metadata": {
        "colab": {
          "base_uri": "https://localhost:8080/"
        },
        "id": "Lh68tydO7rAJ",
        "outputId": "22709366-c588-44f7-85be-6b3390699a1e"
      },
      "execution_count": 4,
      "outputs": [
        {
          "output_type": "stream",
          "name": "stdout",
          "text": [
            "HELLO\n"
          ]
        }
      ]
    },
    {
      "cell_type": "code",
      "source": [
        "#5. Write a code to replace the word \"apple\" with \"orange\" in the string like apple\".\n",
        "# Original string\n",
        "text = 'apple pie is delicious. apple is my favorite fruit.'\n",
        "# Replacing 'apple' with 'orange'\n",
        "updated_text = text.replace('apple', 'orange')\n",
        "# Output the updated string\n",
        "print(updated_text)\n"
      ],
      "metadata": {
        "colab": {
          "base_uri": "https://localhost:8080/"
        },
        "id": "l_lWXvAB7yKi",
        "outputId": "de51240f-bdba-4436-bbd5-0892a053bceb"
      },
      "execution_count": 5,
      "outputs": [
        {
          "output_type": "stream",
          "name": "stdout",
          "text": [
            "orange pie is delicious. orange is my favorite fruit.\n"
          ]
        }
      ]
    },
    {
      "cell_type": "code",
      "source": [
        "#6. Write a code to create a list with numbers 1 to 5 and print it.\n",
        "# Create a list with numbers 1 to 5\n",
        "numbers = [1, 2, 3, 4, 5]\n",
        "# Print the list\n",
        "print(numbers)"
      ],
      "metadata": {
        "colab": {
          "base_uri": "https://localhost:8080/"
        },
        "id": "lfUKDURq74bq",
        "outputId": "bea4cf02-2888-4383-d35e-cd829bb825fe"
      },
      "execution_count": 6,
      "outputs": [
        {
          "output_type": "stream",
          "name": "stdout",
          "text": [
            "[1, 2, 3, 4, 5]\n"
          ]
        }
      ]
    },
    {
      "cell_type": "code",
      "source": [
        "#7. Write a code to append the number 10 to the list [1, 2, 3, 4].\n",
        "#Initial list\n",
        "my_list = [1, 2, 3, 4]\n",
        "# Append the number 10\n",
        "my_list.append(10)\n",
        "# Print the updated list\n",
        "print(my_list)"
      ],
      "metadata": {
        "colab": {
          "base_uri": "https://localhost:8080/"
        },
        "id": "wnASceEE8B8K",
        "outputId": "04fae07f-9f1e-4555-c801-36838da1a10d"
      },
      "execution_count": 7,
      "outputs": [
        {
          "output_type": "stream",
          "name": "stdout",
          "text": [
            "[1, 2, 3, 4, 10]\n"
          ]
        }
      ]
    },
    {
      "cell_type": "code",
      "source": [
        "#8. Write a code to remove the number 3 from the list [1, 2, 3, 4, 5).\n",
        "# Original list\n",
        "numbers = [1, 2, 3, 4, 5]\n",
        "# Remove the number 3\n",
        "numbers.remove(3)\n",
        "# Print the updated list\n",
        "print(numbers)"
      ],
      "metadata": {
        "colab": {
          "base_uri": "https://localhost:8080/"
        },
        "id": "xp_dspPf8Ie5",
        "outputId": "f87023d4-a9fc-4f1b-ca67-8c38c0009a9d"
      },
      "execution_count": 8,
      "outputs": [
        {
          "output_type": "stream",
          "name": "stdout",
          "text": [
            "[1, 2, 4, 5]\n"
          ]
        }
      ]
    },
    {
      "cell_type": "code",
      "source": [
        "#9. Write a code to access the second element in the list ['a', 'b', 'c', 'd'].\n",
        "my_list = ['a', 'b', 'c', 'd']\n",
        "second_element = my_list[1] # Index 1 refers to the second element\n",
        "print(second_element)\n"
      ],
      "metadata": {
        "colab": {
          "base_uri": "https://localhost:8080/"
        },
        "id": "i8drVZs48mbo",
        "outputId": "1ec0ef2a-152e-4fd5-b6e6-952a8a5dc425"
      },
      "execution_count": 9,
      "outputs": [
        {
          "output_type": "stream",
          "name": "stdout",
          "text": [
            "b\n"
          ]
        }
      ]
    },
    {
      "cell_type": "code",
      "source": [
        "#10. Write a code to reverse the list 10, 20, 30, 40, 50).\n",
        "# Original list\n",
        "my_list = [10, 20, 30, 40, 50]\n",
        "# Reversing the list using slicing\n",
        "reversed_list = my_list[::-1]\n",
        "# Printing the reversed list\n",
        "print(reversed_list)"
      ],
      "metadata": {
        "colab": {
          "base_uri": "https://localhost:8080/"
        },
        "id": "D0opA7lQ8oSa",
        "outputId": "c0ffec49-ad05-4539-e4e2-5a7913ecd720"
      },
      "execution_count": 10,
      "outputs": [
        {
          "output_type": "stream",
          "name": "stdout",
          "text": [
            "[50, 40, 30, 20, 10]\n"
          ]
        }
      ]
    },
    {
      "cell_type": "code",
      "source": [
        "#11. Write a code to create a tuple with the elements 10, 20, 30 and print it.\n",
        "# Creating a tuple with elements 10, 20, and 30\n",
        "my_tuple = (10, 20, 30)\n",
        "# Printing the tuple\n",
        "print(my_tuple)"
      ],
      "metadata": {
        "colab": {
          "base_uri": "https://localhost:8080/"
        },
        "id": "FYfKGCxo8vTx",
        "outputId": "70aa17e3-82d2-4ddd-e5a3-cad2f81abb77"
      },
      "execution_count": 11,
      "outputs": [
        {
          "output_type": "stream",
          "name": "stdout",
          "text": [
            "(10, 20, 30)\n"
          ]
        }
      ]
    },
    {
      "cell_type": "code",
      "source": [
        "#12. Write a code to access the first element of the tuple ('apple', banana', 'cherry').\n",
        "# Define the tuple\n",
        "my_tuple = ('apple', 'banana', 'cherry')\n",
        "# Access the first element\n",
        "first_element = my_tuple[0]\n",
        "# Print the first element\n",
        "print(first_element)"
      ],
      "metadata": {
        "colab": {
          "base_uri": "https://localhost:8080/"
        },
        "id": "WtZyAKNb8zQB",
        "outputId": "182429ba-ebd4-4468-d99e-04de7ab2d18e"
      },
      "execution_count": 12,
      "outputs": [
        {
          "output_type": "stream",
          "name": "stdout",
          "text": [
            "apple\n"
          ]
        }
      ]
    },
    {
      "cell_type": "code",
      "source": [
        "#13. Write a code to count how many times the number 2 appears in the tuple (1, 2, 3, 2, 4, 2).\n",
        "# Define the tuple\n",
        "my_tuple = (1, 2, 3, 2, 4, 2)\n",
        "# Count the occurrences of the number 2\n",
        "count = my_tuple.count(2)\n",
        "# Print the result\n",
        "print(\"The number 2 appears\", count, \"times.\")"
      ],
      "metadata": {
        "colab": {
          "base_uri": "https://localhost:8080/"
        },
        "id": "6yBW2q8f9TTe",
        "outputId": "1ffc2d23-2056-4cc3-cb17-1d230533d129"
      },
      "execution_count": 13,
      "outputs": [
        {
          "output_type": "stream",
          "name": "stdout",
          "text": [
            "The number 2 appears 3 times.\n"
          ]
        }
      ]
    },
    {
      "cell_type": "code",
      "source": [
        "#14. Write a code to find the index of the element \"cat\" in the tuple ('dog', 'cat', 'rabbit').\n",
        "# Define the tuple\n",
        "animals = ('dog', 'cat', 'rabbit')\n",
        "# Find the index of 'cat'\n",
        "index_of_cat = animals.index('cat')\n",
        "# Print the index\n",
        "print(\"The index of 'cat' is:\", index_of_cat)"
      ],
      "metadata": {
        "colab": {
          "base_uri": "https://localhost:8080/"
        },
        "id": "_8bzSH3S9Ukx",
        "outputId": "0940adb9-2702-47e1-a0ee-b4c0ba067a99"
      },
      "execution_count": 14,
      "outputs": [
        {
          "output_type": "stream",
          "name": "stdout",
          "text": [
            "The index of 'cat' is: 1\n"
          ]
        }
      ]
    },
    {
      "cell_type": "code",
      "source": [
        "#15. Write a code to check if the element \"banana\" is in the tuple ('apple, 'orange', banana').\n",
        "# Define the tuple\n",
        "fruits = ('apple', 'orange', 'banana')\n",
        "# Check if 'banana' is in the tuple\n",
        "if 'banana' in fruits:\n",
        "  print(\"Yes, 'banana' is in the tuple.\")\n",
        "else:\n",
        "  print(\"no, 'banana' is not in the tuple.\")"
      ],
      "metadata": {
        "colab": {
          "base_uri": "https://localhost:8080/"
        },
        "id": "JObdH5rr9a6y",
        "outputId": "7b1c07bf-1547-4a87-e6cb-23c381e0ba23"
      },
      "execution_count": 17,
      "outputs": [
        {
          "output_type": "stream",
          "name": "stdout",
          "text": [
            "Yes, 'banana' is in the tuple.\n"
          ]
        }
      ]
    },
    {
      "cell_type": "code",
      "source": [
        "#16. Write a code to create a set with the elements 1, 2, 3, 4, 5 and print it.\n",
        "# Create a set\n",
        "my_set = {1, 2, 3, 4, 5}\n",
        "\n",
        "# Print the set\n",
        "print(my_set)"
      ],
      "metadata": {
        "colab": {
          "base_uri": "https://localhost:8080/"
        },
        "id": "Zjywa_EO9iBQ",
        "outputId": "9bd08ed2-3bc7-4c4c-cee2-e1baeaaa66be"
      },
      "execution_count": 19,
      "outputs": [
        {
          "output_type": "stream",
          "name": "stdout",
          "text": [
            "{1, 2, 3, 4, 5}\n"
          ]
        }
      ]
    },
    {
      "cell_type": "code",
      "source": [
        "#17. Write a code to add the element 6 to the set (1, 2, 3, 4).\n",
        "# Create the set\n",
        "my_set = {1, 2, 3, 4}\n",
        "\n",
        "# Add the element 6 to the set\n",
        "my_set.add(6)\n",
        "\n",
        "# Print the updated set\n",
        "print(\"Updated set:\", my_set)"
      ],
      "metadata": {
        "colab": {
          "base_uri": "https://localhost:8080/"
        },
        "id": "LyCwmj3B-evT",
        "outputId": "c26f2620-54d9-427e-8d3e-2d8a95d8f1ed"
      },
      "execution_count": 20,
      "outputs": [
        {
          "output_type": "stream",
          "name": "stdout",
          "text": [
            "Updated set: {1, 2, 3, 4, 6}\n"
          ]
        }
      ]
    },
    {
      "cell_type": "code",
      "source": [
        "#18. Write a code to create a tuple with the elements 10, 20, 30 and print it.\n",
        "# Creating a tuple\n",
        "my_tuple = (10, 20, 30)\n",
        "\n",
        "# Printing the tuple\n",
        "print(\"The tuple is:\", my_tuple)"
      ],
      "metadata": {
        "colab": {
          "base_uri": "https://localhost:8080/"
        },
        "id": "6gvWYTEM-fai",
        "outputId": "40876cc2-3070-4ed7-c608-4748294c6968"
      },
      "execution_count": 21,
      "outputs": [
        {
          "output_type": "stream",
          "name": "stdout",
          "text": [
            "The tuple is: (10, 20, 30)\n"
          ]
        }
      ]
    },
    {
      "cell_type": "code",
      "source": [
        "#19. Write a code to access the first element of the tuple ('apple', 'banana', 'cherry).\n",
        "# Define the tuple\n",
        "fruits = ('apple', 'banana', 'cherry')\n",
        "\n",
        "# Access the first element\n",
        "first_element = fruits[0]\n",
        "\n",
        "# Print the result\n",
        "print(\"The first element is:\", first_element)"
      ],
      "metadata": {
        "colab": {
          "base_uri": "https://localhost:8080/"
        },
        "id": "WyUYhtnJ-f_R",
        "outputId": "3028fb45-12cc-4135-bc29-e8efc000cad1"
      },
      "execution_count": 22,
      "outputs": [
        {
          "output_type": "stream",
          "name": "stdout",
          "text": [
            "The first element is: apple\n"
          ]
        }
      ]
    },
    {
      "cell_type": "code",
      "source": [
        "#20. Write a code to count how many times the number 2 appears in the tuple (1, 2, 3, 2, 4, 2).\n",
        "# Define the tuple\n",
        "numbers = (1, 2, 3, 2, 4, 2)\n",
        "\n",
        "# Use the count() method to count occurrences of 2\n",
        "count_of_2 = numbers.count(2)\n",
        "\n",
        "# Print the result\n",
        "print(\"The number 2 appears\", count_of_2, \"times in the tuple.\")"
      ],
      "metadata": {
        "colab": {
          "base_uri": "https://localhost:8080/"
        },
        "id": "MqYLaZBV-gTQ",
        "outputId": "598f41ff-74b8-4401-ceeb-f01b25102565"
      },
      "execution_count": 23,
      "outputs": [
        {
          "output_type": "stream",
          "name": "stdout",
          "text": [
            "The number 2 appears 3 times in the tuple.\n"
          ]
        }
      ]
    },
    {
      "cell_type": "code",
      "source": [
        "#21. Write a code to find the index of the element 'cat' in the tuple ('dog, 'cat', 'rabbit').\n",
        "# Define the tuple\n",
        "animals = ('dog', 'cat', 'rabbit')\n",
        "\n",
        "# Find the index of 'cat'\n",
        "cat_index = animals.index('cat')\n",
        "\n",
        "# Print the result\n",
        "print(\"The index of 'cat' is:\", cat_index)"
      ],
      "metadata": {
        "colab": {
          "base_uri": "https://localhost:8080/"
        },
        "id": "JaXbQ7os-gxz",
        "outputId": "b8e1bbfe-5bae-4220-f9f5-e87e7cffa1fc"
      },
      "execution_count": 24,
      "outputs": [
        {
          "output_type": "stream",
          "name": "stdout",
          "text": [
            "The index of 'cat' is: 1\n"
          ]
        }
      ]
    },
    {
      "cell_type": "code",
      "source": [
        "#22. Write a code to check if the element \"banana\" is in the tuple ('apple', 'orange', banana').\n",
        "# Define the tuple\n",
        "fruits = ('apple', 'orange', 'banana')\n",
        "\n",
        "# Check if 'banana' is in the tuple\n",
        "if 'banana' in fruits:\n",
        "  print(\"Yes, 'banana' is in the tuple.\")"
      ],
      "metadata": {
        "colab": {
          "base_uri": "https://localhost:8080/"
        },
        "id": "qlO_CAq4-hCh",
        "outputId": "c80d3dcc-467d-4b4a-8c50-f356fa8c7695"
      },
      "execution_count": 25,
      "outputs": [
        {
          "output_type": "stream",
          "name": "stdout",
          "text": [
            "Yes, 'banana' is in the tuple.\n"
          ]
        }
      ]
    },
    {
      "cell_type": "code",
      "source": [
        "#23. Write a code to create a set with the elements 1, 2, 3, 4, 5 and print it.\n",
        "# Create a set with elements 1, 2, 3, 4, 5\n",
        "my_set = {1, 2, 3, 4, 5}\n",
        "\n",
        "# Print the set\n",
        "print(\"The set is:\", my_set)"
      ],
      "metadata": {
        "colab": {
          "base_uri": "https://localhost:8080/"
        },
        "id": "yF6Rcr__-hSz",
        "outputId": "df79bce3-4d45-4ed7-f1dd-180af3257cfe"
      },
      "execution_count": 26,
      "outputs": [
        {
          "output_type": "stream",
          "name": "stdout",
          "text": [
            "The set is: {1, 2, 3, 4, 5}\n"
          ]
        }
      ]
    },
    {
      "cell_type": "code",
      "source": [
        "#24. Write a code to add the element 6 to the set [1, 2, 3, 4)\n",
        "# Define the set\n",
        "my_set = {1, 2, 3, 4}\n",
        "\n",
        "# Add the element 6 to the set\n",
        "my_set.add(6)\n",
        "\n",
        "# Print the updated set\n",
        "print(my_set)"
      ],
      "metadata": {
        "colab": {
          "base_uri": "https://localhost:8080/"
        },
        "id": "2TsBFrso_o8C",
        "outputId": "732a8088-e5f2-4635-d7b4-06dd4e6a74d3"
      },
      "execution_count": 27,
      "outputs": [
        {
          "output_type": "stream",
          "name": "stdout",
          "text": [
            "{1, 2, 3, 4, 6}\n"
          ]
        }
      ]
    }
  ]
}